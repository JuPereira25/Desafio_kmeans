{
 "cells": [
  {
   "cell_type": "code",
   "execution_count": 51,
   "id": "525cee2a",
   "metadata": {},
   "outputs": [],
   "source": [
    "# Bibilotecas para carregar os dados\n",
    "from sklearn.datasets import load_iris\n",
    "import numpy as np\n",
    "import pandas as pd\n",
    "\n",
    "# Gráfico \n",
    "import plotly.express as px\n",
    "from sklearn.decomposition import PCA\n",
    "\n",
    "# ML\n",
    "from sklearn.preprocessing import StandardScaler\n",
    "from sklearn.cluster import KMeans\n",
    "from sklearn.metrics import silhouette_score\n",
    "import optuna\n",
    "\n",
    "# Interface\n",
    "import gradio as gr"
   ]
  },
  {
   "cell_type": "code",
   "execution_count": 52,
   "id": "fecee505",
   "metadata": {},
   "outputs": [],
   "source": [
    "# 1. Carregar o conjunto de dados Iris\n",
    "iris = load_iris()\n",
    "X = iris.data\n",
    "y = iris.target "
   ]
  },
  {
   "cell_type": "code",
   "execution_count": 53,
   "id": "acbb2fab",
   "metadata": {},
   "outputs": [],
   "source": [
    "# 2. Escalar os dados\n",
    "scaler = StandardScaler()\n",
    "X_scaled = scaler.fit_transform(X)"
   ]
  },
  {
   "cell_type": "code",
   "execution_count": null,
   "id": "23986d18",
   "metadata": {},
   "outputs": [],
   "source": [
    "\n",
    "# 3. KMeans clustering\n",
    "kmeans = KMeans(n_clusters=3, random_state=42, n_init='auto')\n",
    "labels = kmeans.fit_predict(X_scaled)\n"
   ]
  },
  {
   "cell_type": "code",
   "execution_count": null,
   "id": "c186b149",
   "metadata": {},
   "outputs": [
    {
     "data": {
      "application/vnd.plotly.v1+json": {
       "config": {
        "plotlyServerURL": "https://plot.ly"
       },
       "data": [
        {
         "customdata": [
          [
           "setosa"
          ],
          [
           "setosa"
          ],
          [
           "setosa"
          ],
          [
           "setosa"
          ],
          [
           "setosa"
          ],
          [
           "setosa"
          ],
          [
           "setosa"
          ],
          [
           "setosa"
          ],
          [
           "setosa"
          ],
          [
           "setosa"
          ],
          [
           "setosa"
          ],
          [
           "setosa"
          ],
          [
           "setosa"
          ],
          [
           "setosa"
          ],
          [
           "setosa"
          ],
          [
           "setosa"
          ],
          [
           "setosa"
          ],
          [
           "setosa"
          ],
          [
           "setosa"
          ],
          [
           "setosa"
          ],
          [
           "setosa"
          ],
          [
           "setosa"
          ],
          [
           "setosa"
          ],
          [
           "setosa"
          ],
          [
           "setosa"
          ],
          [
           "setosa"
          ],
          [
           "setosa"
          ],
          [
           "setosa"
          ],
          [
           "setosa"
          ],
          [
           "setosa"
          ],
          [
           "setosa"
          ],
          [
           "setosa"
          ],
          [
           "setosa"
          ]
         ],
         "hovertemplate": "Grupo=1<br>PCA1=%{x}<br>PCA2=%{y}<br>species=%{customdata[0]}<extra></extra>",
         "legendgroup": "1",
         "marker": {
          "color": "#636efa",
          "symbol": "circle"
         },
         "mode": "markers",
         "name": "1",
         "orientation": "v",
         "showlegend": true,
         "type": "scatter",
         "x": {
          "bdata": "SOeXgRweAsCoW9eRZR4DwGXeB2bkmgDAqQ5r/V6NA8AVk6L43twBwJwN3GOaVAHAQ7Psf+qbAsCMVztQBZcBwEoZru4DGQLA7/LkvCOpAcAXU6b21YUBwMsxcQeNYP6/HVMrRji/AsBefGImEaH+vzT9eln2pwHA0zq3otsxBsC7rz84RRn9v9zjxv460QHAkSUIDcJoAMB971/9PlkBwOdyWHHTHQHAJEB5UTZO/b/9DcrSaesEwK9ozHPFkQPAymFMnXVcAMCBoknL+TcEwG7gIUqRWwHA4kreerNKAsDPfcexYG7/v2KqXGSyGAHAK6Jl++4TA8BFwFwS6NUBwIAWm2xzoQHA",
          "dtype": "f8"
         },
         "xaxis": "x",
         "y": {
          "bdata": "PSRRecG43j8Jt+4d4LLkP52kic+r0/c/D4RU/dFkqD9PAS+1HZDMP4kdYPj0svA/w03U/LUIwT84omQ/y8L9P+VqWriCfQVAYK7sK9289z9YypWBIEnfP6H8x/z0evY/gcUhy6sL8j8mDWYhsSraPywlLRlnku0/G/XUrYBV3T9oVkzgKee1Py8TgtKNkcE/N4Z7HTf/zj8/oWmuaN7gP2zaxLbCC9Q/42y16tEd2z/O0c2YfLL8PyD8P9GwNAFAAmek6nsr5T/8z9n5D/TiP6SofBpQNdE/IKwTnhBF3D8pgbihmTreP0XlzzCSRvI/itn3sUft8T8Qp81QSe/vP5MSI5EG4II/",
          "dtype": "f8"
         },
         "yaxis": "y"
        },
        {
         "customdata": [
          [
           "setosa"
          ],
          [
           "setosa"
          ],
          [
           "setosa"
          ],
          [
           "setosa"
          ],
          [
           "setosa"
          ],
          [
           "setosa"
          ],
          [
           "setosa"
          ],
          [
           "setosa"
          ],
          [
           "setosa"
          ],
          [
           "setosa"
          ],
          [
           "setosa"
          ],
          [
           "setosa"
          ],
          [
           "setosa"
          ],
          [
           "setosa"
          ],
          [
           "setosa"
          ],
          [
           "setosa"
          ],
          [
           "setosa"
          ],
          [
           "versicolor"
          ],
          [
           "versicolor"
          ],
          [
           "versicolor"
          ],
          [
           "versicolor"
          ]
         ],
         "hovertemplate": "Grupo=2<br>PCA1=%{x}<br>PCA2=%{y}<br>species=%{customdata[0]}<extra></extra>",
         "legendgroup": "2",
         "marker": {
          "color": "#EF553B",
          "symbol": "circle"
         },
         "mode": "markers",
         "name": "2",
         "orientation": "v",
         "showlegend": true,
         "type": "scatter",
         "x": {
          "bdata": "AITf9c6lAMDjsRXs8OkCwI8YaY0jZQLAkT+k/FetAsDGlNgMgXkBwNrKUS9jvwHAihf7GJcQBcAmjuA3wzr/v3zi72pBHwLAG26wWvgeAcCVAOeBOuEAwA3fSraXqQHAa0YaNONvA8AWZ+Gc3rr9v9zJl/fZbQTAeKJuGdaOAMBqH9/EricDwMG0AbpLMN+/bVm+ytI1vL/BEQY4Ay7Xv7lxjpGTpty/",
          "dtype": "f8"
         },
         "xaxis": "x",
         "y": {
          "bdata": "bDJYiYCS5b9sxzQx0uHVv2W6KBbbHeO/q+cm1WHY8b/gouZ0UQTev3wZba1QUee/2W6VwqnE7r8wqMhFEQXkv7XkXUZmndW/Rxd1hDIl4L/E/KFs8nPdv1OLRCq6Ycq/i5Hj+grv7L847ta3BrMCwGw/5PCVqd6/YHMopfHA5r8z+XzNRLjYvxlmo66Mo/2/ZImmh4o7BcBGPKMvZicAwMsEuUZfs/i/",
          "dtype": "f8"
         },
         "yaxis": "y"
        },
        {
         "customdata": [
          [
           "versicolor"
          ],
          [
           "versicolor"
          ],
          [
           "versicolor"
          ],
          [
           "versicolor"
          ],
          [
           "versicolor"
          ],
          [
           "versicolor"
          ],
          [
           "versicolor"
          ],
          [
           "versicolor"
          ],
          [
           "versicolor"
          ],
          [
           "versicolor"
          ],
          [
           "versicolor"
          ],
          [
           "versicolor"
          ],
          [
           "versicolor"
          ],
          [
           "versicolor"
          ],
          [
           "versicolor"
          ],
          [
           "versicolor"
          ],
          [
           "versicolor"
          ],
          [
           "versicolor"
          ],
          [
           "versicolor"
          ],
          [
           "versicolor"
          ],
          [
           "versicolor"
          ],
          [
           "versicolor"
          ],
          [
           "versicolor"
          ],
          [
           "versicolor"
          ],
          [
           "versicolor"
          ],
          [
           "versicolor"
          ],
          [
           "versicolor"
          ],
          [
           "versicolor"
          ],
          [
           "versicolor"
          ],
          [
           "versicolor"
          ],
          [
           "versicolor"
          ],
          [
           "versicolor"
          ],
          [
           "versicolor"
          ],
          [
           "versicolor"
          ],
          [
           "versicolor"
          ],
          [
           "versicolor"
          ],
          [
           "versicolor"
          ],
          [
           "versicolor"
          ],
          [
           "versicolor"
          ],
          [
           "versicolor"
          ],
          [
           "versicolor"
          ],
          [
           "versicolor"
          ],
          [
           "versicolor"
          ],
          [
           "versicolor"
          ],
          [
           "versicolor"
          ],
          [
           "versicolor"
          ],
          [
           "virginica"
          ],
          [
           "virginica"
          ],
          [
           "virginica"
          ],
          [
           "virginica"
          ],
          [
           "virginica"
          ],
          [
           "virginica"
          ],
          [
           "virginica"
          ],
          [
           "virginica"
          ],
          [
           "virginica"
          ],
          [
           "virginica"
          ],
          [
           "virginica"
          ],
          [
           "virginica"
          ],
          [
           "virginica"
          ],
          [
           "virginica"
          ],
          [
           "virginica"
          ],
          [
           "virginica"
          ],
          [
           "virginica"
          ],
          [
           "virginica"
          ],
          [
           "virginica"
          ],
          [
           "virginica"
          ],
          [
           "virginica"
          ],
          [
           "virginica"
          ],
          [
           "virginica"
          ],
          [
           "virginica"
          ],
          [
           "virginica"
          ],
          [
           "virginica"
          ],
          [
           "virginica"
          ],
          [
           "virginica"
          ],
          [
           "virginica"
          ],
          [
           "virginica"
          ],
          [
           "virginica"
          ],
          [
           "virginica"
          ],
          [
           "virginica"
          ],
          [
           "virginica"
          ],
          [
           "virginica"
          ],
          [
           "virginica"
          ],
          [
           "virginica"
          ],
          [
           "virginica"
          ],
          [
           "virginica"
          ],
          [
           "virginica"
          ],
          [
           "virginica"
          ],
          [
           "virginica"
          ],
          [
           "virginica"
          ],
          [
           "virginica"
          ],
          [
           "virginica"
          ],
          [
           "virginica"
          ],
          [
           "virginica"
          ],
          [
           "virginica"
          ],
          [
           "virginica"
          ],
          [
           "virginica"
          ]
         ],
         "hovertemplate": "Grupo=0<br>PCA1=%{x}<br>PCA2=%{y}<br>species=%{customdata[0]}<extra></extra>",
         "legendgroup": "0",
         "marker": {
          "color": "#00cc96",
          "symbol": "circle"
         },
         "mode": "markers",
         "name": "0",
         "orientation": "v",
         "showlegend": true,
         "type": "scatter",
         "x": {
          "bdata": "NvhITuWg8T9aWI2+HWfnP0RThSEN2/M/rtzS0jMU2j+Cqaz1JDXxP9mPstlA4Ng/sQAQV5Lj5z86ddTGXrHtPwHLixedZoc/r2a8S1I03D8PeB+PyvzhP2XlaaemBuc/MCekHt4Tob/OWe3wVQPsPx0i2viFatY/zVM/PONTxD/sAyvI+5nzP4rUMZwHHMU/HpNppBib5z90FyZFfXvePwAIbogxv/M/vkrY1l9A5D9eojdOM3zmPwuW5b0M+us/msWqTaka9D8b5zQCB7z1P3ZCc2sLRuU/bqBm0sacpL9qc5505b3AP5jxhlD7A5g/nzWJ47nqzj8aDi9XPvrwP0TvnSFWq8w/suGk6AN32z8YdKUQl8fwP8QKeopmtvA/7upgS4rQsT8rwea2fSTSPzS2TAhp3NE/+MmRyXn84z+k0XSttonVPxGNdGoyeNI/SF4tdGljtz+4DRyF0yXNPxwNMtrFceI/hevJIkZu0D9McSGlWoP9P5681d6uhvI/Kf1U6mKkAUBJOyds2wr3P444FhGP4v0/Y17bKtYDBkAplZrBN33XPyh8HV9lawJAa/l/orENAECKAJIlBhQCQAQZT66p0/U/DDG7Y5Kk+T9MoesPdST+P038Q3NuKfQ/GgPIiHl79z9kQdTp9HD5PzX4Pbf7ivc/odwOLB9pA0C2D2D3TXwKQKTsUGdjOPQ/hbJKND5NAEDOBLdAnkvvP29Fn+djLgdARnocQ+tU9T83xk6/NDb7P+FpdRTsRP8/QQcvdznN8j9VJaE+0FXwPzGdT84Unfw/dAvNGIDR/T91+t9O1XwDQCdKB/J9cAJAlMUy5KHN/T86ktKUjNPxP25ZEKVUPfM/wd+qwuFjBkBknAYeWDj5P3UPv5ZpivU/fmtibCqY7T/p+AD++aH9P/tdQu5UHgBA3Kp7J7Vt/j+evNXerobyPyKKODEQUwBAvmfbFmn4/z/x7WTclO39P8wzaYuFCPk/K6q44LZW+D8p+kRU8Pb1P37e9raxve4/",
          "dtype": "f8"
         },
         "xaxis": "x",
         "y": {
          "bdata": "/SY5VXid6z/PCw92FQfjP14jzdu1uOM/Dtvh6gkS/L/5Ikt0iq3Kv/iJuvYt/OK/+HkU/5K86D8B4T2973+gP0JbMr9Wi/C/EttVDB00sL8UQtOhTzz8vxPf4Dc11se/RHJt66AY3L+4QL1+QErgPyoY3C++IMm/f5ShK9lY6b+kqgbrtfT5v8JoucZ81/S/piRJsG1h2T8kQ/EfYLXavxqqNuvN3e2/li3rrhim2r9G2uXLwTuwv5fnI7v/DNA/f0wD7gzHs79cx4TpNTTVP8u7lTU068y/D+LR24Lw8L/GTDbAEP/4v9yzLivcKPm/oOT5xkjf6L/7qt2gcUjkvw9cuJfhatK/p4DYfAIP6z8hBUv4pbTgP9GUese4IPa/gGLWba8YzL8jIqnp6UT1v/j4gAej6/G/4cBALmyFmT9sImR2AaHvvzhIUY0kYuu/M3Jbt00xx7/RhNrVh6LYvyiNh+Xl0sO/cnb0Pcsp478BpsXLfdrrP9LZW1QkXea/9VNYZf374T+o93bUwQ6ov8tn+a8D4tI/zJW6wfOc6T87BLh06vv4v7psr71a4to/3AzD/hrE5r/xv2Jgdbz+P8khhJUPK+Y/JNce4iP92r/4Vo18/NTaP9sDNmKemPK/VwPvfC1O3L8xfZUlzKPlP6XsD6QbXNA/z+9Y0Ap0BEBmtEtPKzWSP9kKdT7UTvu/q02MjIwi7T8h7IKy5EvivxDAz1kYedo/N368uP7V3r85nM0iBjnwP+DtkWbbH/A/ryrNmc4/1L/OHDY7+3iwP+Vsmshz+8e/k83QHkn+4T+J3C28HZjQP/Iz5uC1AgVArSARuLXaxr9OEt+HPr/Sv2kOYHFL9um/T2jp0O5q6z+yD9GA6BjxP302nGYaCds/ko+2tO6ikT9KfaON16LlP69Ewn3zpOM/CrJ8oAAR5j/S2VtUJF3mv+avNpC6wus/VEISK2XJ8D98mFpiDcTYP8Pi3oiosey/JlbCyW040T8NIfgcGS7wP9zELZxm6pi/",
          "dtype": "f8"
         },
         "yaxis": "y"
        }
       ],
       "layout": {
        "legend": {
         "title": {
          "text": "Grupo"
         },
         "tracegroupgap": 0
        },
        "template": {
         "data": {
          "bar": [
           {
            "error_x": {
             "color": "#2a3f5f"
            },
            "error_y": {
             "color": "#2a3f5f"
            },
            "marker": {
             "line": {
              "color": "#E5ECF6",
              "width": 0.5
             },
             "pattern": {
              "fillmode": "overlay",
              "size": 10,
              "solidity": 0.2
             }
            },
            "type": "bar"
           }
          ],
          "barpolar": [
           {
            "marker": {
             "line": {
              "color": "#E5ECF6",
              "width": 0.5
             },
             "pattern": {
              "fillmode": "overlay",
              "size": 10,
              "solidity": 0.2
             }
            },
            "type": "barpolar"
           }
          ],
          "carpet": [
           {
            "aaxis": {
             "endlinecolor": "#2a3f5f",
             "gridcolor": "white",
             "linecolor": "white",
             "minorgridcolor": "white",
             "startlinecolor": "#2a3f5f"
            },
            "baxis": {
             "endlinecolor": "#2a3f5f",
             "gridcolor": "white",
             "linecolor": "white",
             "minorgridcolor": "white",
             "startlinecolor": "#2a3f5f"
            },
            "type": "carpet"
           }
          ],
          "choropleth": [
           {
            "colorbar": {
             "outlinewidth": 0,
             "ticks": ""
            },
            "type": "choropleth"
           }
          ],
          "contour": [
           {
            "colorbar": {
             "outlinewidth": 0,
             "ticks": ""
            },
            "colorscale": [
             [
              0,
              "#0d0887"
             ],
             [
              0.1111111111111111,
              "#46039f"
             ],
             [
              0.2222222222222222,
              "#7201a8"
             ],
             [
              0.3333333333333333,
              "#9c179e"
             ],
             [
              0.4444444444444444,
              "#bd3786"
             ],
             [
              0.5555555555555556,
              "#d8576b"
             ],
             [
              0.6666666666666666,
              "#ed7953"
             ],
             [
              0.7777777777777778,
              "#fb9f3a"
             ],
             [
              0.8888888888888888,
              "#fdca26"
             ],
             [
              1,
              "#f0f921"
             ]
            ],
            "type": "contour"
           }
          ],
          "contourcarpet": [
           {
            "colorbar": {
             "outlinewidth": 0,
             "ticks": ""
            },
            "type": "contourcarpet"
           }
          ],
          "heatmap": [
           {
            "colorbar": {
             "outlinewidth": 0,
             "ticks": ""
            },
            "colorscale": [
             [
              0,
              "#0d0887"
             ],
             [
              0.1111111111111111,
              "#46039f"
             ],
             [
              0.2222222222222222,
              "#7201a8"
             ],
             [
              0.3333333333333333,
              "#9c179e"
             ],
             [
              0.4444444444444444,
              "#bd3786"
             ],
             [
              0.5555555555555556,
              "#d8576b"
             ],
             [
              0.6666666666666666,
              "#ed7953"
             ],
             [
              0.7777777777777778,
              "#fb9f3a"
             ],
             [
              0.8888888888888888,
              "#fdca26"
             ],
             [
              1,
              "#f0f921"
             ]
            ],
            "type": "heatmap"
           }
          ],
          "histogram": [
           {
            "marker": {
             "pattern": {
              "fillmode": "overlay",
              "size": 10,
              "solidity": 0.2
             }
            },
            "type": "histogram"
           }
          ],
          "histogram2d": [
           {
            "colorbar": {
             "outlinewidth": 0,
             "ticks": ""
            },
            "colorscale": [
             [
              0,
              "#0d0887"
             ],
             [
              0.1111111111111111,
              "#46039f"
             ],
             [
              0.2222222222222222,
              "#7201a8"
             ],
             [
              0.3333333333333333,
              "#9c179e"
             ],
             [
              0.4444444444444444,
              "#bd3786"
             ],
             [
              0.5555555555555556,
              "#d8576b"
             ],
             [
              0.6666666666666666,
              "#ed7953"
             ],
             [
              0.7777777777777778,
              "#fb9f3a"
             ],
             [
              0.8888888888888888,
              "#fdca26"
             ],
             [
              1,
              "#f0f921"
             ]
            ],
            "type": "histogram2d"
           }
          ],
          "histogram2dcontour": [
           {
            "colorbar": {
             "outlinewidth": 0,
             "ticks": ""
            },
            "colorscale": [
             [
              0,
              "#0d0887"
             ],
             [
              0.1111111111111111,
              "#46039f"
             ],
             [
              0.2222222222222222,
              "#7201a8"
             ],
             [
              0.3333333333333333,
              "#9c179e"
             ],
             [
              0.4444444444444444,
              "#bd3786"
             ],
             [
              0.5555555555555556,
              "#d8576b"
             ],
             [
              0.6666666666666666,
              "#ed7953"
             ],
             [
              0.7777777777777778,
              "#fb9f3a"
             ],
             [
              0.8888888888888888,
              "#fdca26"
             ],
             [
              1,
              "#f0f921"
             ]
            ],
            "type": "histogram2dcontour"
           }
          ],
          "mesh3d": [
           {
            "colorbar": {
             "outlinewidth": 0,
             "ticks": ""
            },
            "type": "mesh3d"
           }
          ],
          "parcoords": [
           {
            "line": {
             "colorbar": {
              "outlinewidth": 0,
              "ticks": ""
             }
            },
            "type": "parcoords"
           }
          ],
          "pie": [
           {
            "automargin": true,
            "type": "pie"
           }
          ],
          "scatter": [
           {
            "fillpattern": {
             "fillmode": "overlay",
             "size": 10,
             "solidity": 0.2
            },
            "type": "scatter"
           }
          ],
          "scatter3d": [
           {
            "line": {
             "colorbar": {
              "outlinewidth": 0,
              "ticks": ""
             }
            },
            "marker": {
             "colorbar": {
              "outlinewidth": 0,
              "ticks": ""
             }
            },
            "type": "scatter3d"
           }
          ],
          "scattercarpet": [
           {
            "marker": {
             "colorbar": {
              "outlinewidth": 0,
              "ticks": ""
             }
            },
            "type": "scattercarpet"
           }
          ],
          "scattergeo": [
           {
            "marker": {
             "colorbar": {
              "outlinewidth": 0,
              "ticks": ""
             }
            },
            "type": "scattergeo"
           }
          ],
          "scattergl": [
           {
            "marker": {
             "colorbar": {
              "outlinewidth": 0,
              "ticks": ""
             }
            },
            "type": "scattergl"
           }
          ],
          "scattermap": [
           {
            "marker": {
             "colorbar": {
              "outlinewidth": 0,
              "ticks": ""
             }
            },
            "type": "scattermap"
           }
          ],
          "scattermapbox": [
           {
            "marker": {
             "colorbar": {
              "outlinewidth": 0,
              "ticks": ""
             }
            },
            "type": "scattermapbox"
           }
          ],
          "scatterpolar": [
           {
            "marker": {
             "colorbar": {
              "outlinewidth": 0,
              "ticks": ""
             }
            },
            "type": "scatterpolar"
           }
          ],
          "scatterpolargl": [
           {
            "marker": {
             "colorbar": {
              "outlinewidth": 0,
              "ticks": ""
             }
            },
            "type": "scatterpolargl"
           }
          ],
          "scatterternary": [
           {
            "marker": {
             "colorbar": {
              "outlinewidth": 0,
              "ticks": ""
             }
            },
            "type": "scatterternary"
           }
          ],
          "surface": [
           {
            "colorbar": {
             "outlinewidth": 0,
             "ticks": ""
            },
            "colorscale": [
             [
              0,
              "#0d0887"
             ],
             [
              0.1111111111111111,
              "#46039f"
             ],
             [
              0.2222222222222222,
              "#7201a8"
             ],
             [
              0.3333333333333333,
              "#9c179e"
             ],
             [
              0.4444444444444444,
              "#bd3786"
             ],
             [
              0.5555555555555556,
              "#d8576b"
             ],
             [
              0.6666666666666666,
              "#ed7953"
             ],
             [
              0.7777777777777778,
              "#fb9f3a"
             ],
             [
              0.8888888888888888,
              "#fdca26"
             ],
             [
              1,
              "#f0f921"
             ]
            ],
            "type": "surface"
           }
          ],
          "table": [
           {
            "cells": {
             "fill": {
              "color": "#EBF0F8"
             },
             "line": {
              "color": "white"
             }
            },
            "header": {
             "fill": {
              "color": "#C8D4E3"
             },
             "line": {
              "color": "white"
             }
            },
            "type": "table"
           }
          ]
         },
         "layout": {
          "annotationdefaults": {
           "arrowcolor": "#2a3f5f",
           "arrowhead": 0,
           "arrowwidth": 1
          },
          "autotypenumbers": "strict",
          "coloraxis": {
           "colorbar": {
            "outlinewidth": 0,
            "ticks": ""
           }
          },
          "colorscale": {
           "diverging": [
            [
             0,
             "#8e0152"
            ],
            [
             0.1,
             "#c51b7d"
            ],
            [
             0.2,
             "#de77ae"
            ],
            [
             0.3,
             "#f1b6da"
            ],
            [
             0.4,
             "#fde0ef"
            ],
            [
             0.5,
             "#f7f7f7"
            ],
            [
             0.6,
             "#e6f5d0"
            ],
            [
             0.7,
             "#b8e186"
            ],
            [
             0.8,
             "#7fbc41"
            ],
            [
             0.9,
             "#4d9221"
            ],
            [
             1,
             "#276419"
            ]
           ],
           "sequential": [
            [
             0,
             "#0d0887"
            ],
            [
             0.1111111111111111,
             "#46039f"
            ],
            [
             0.2222222222222222,
             "#7201a8"
            ],
            [
             0.3333333333333333,
             "#9c179e"
            ],
            [
             0.4444444444444444,
             "#bd3786"
            ],
            [
             0.5555555555555556,
             "#d8576b"
            ],
            [
             0.6666666666666666,
             "#ed7953"
            ],
            [
             0.7777777777777778,
             "#fb9f3a"
            ],
            [
             0.8888888888888888,
             "#fdca26"
            ],
            [
             1,
             "#f0f921"
            ]
           ],
           "sequentialminus": [
            [
             0,
             "#0d0887"
            ],
            [
             0.1111111111111111,
             "#46039f"
            ],
            [
             0.2222222222222222,
             "#7201a8"
            ],
            [
             0.3333333333333333,
             "#9c179e"
            ],
            [
             0.4444444444444444,
             "#bd3786"
            ],
            [
             0.5555555555555556,
             "#d8576b"
            ],
            [
             0.6666666666666666,
             "#ed7953"
            ],
            [
             0.7777777777777778,
             "#fb9f3a"
            ],
            [
             0.8888888888888888,
             "#fdca26"
            ],
            [
             1,
             "#f0f921"
            ]
           ]
          },
          "colorway": [
           "#636efa",
           "#EF553B",
           "#00cc96",
           "#ab63fa",
           "#FFA15A",
           "#19d3f3",
           "#FF6692",
           "#B6E880",
           "#FF97FF",
           "#FECB52"
          ],
          "font": {
           "color": "#2a3f5f"
          },
          "geo": {
           "bgcolor": "white",
           "lakecolor": "white",
           "landcolor": "#E5ECF6",
           "showlakes": true,
           "showland": true,
           "subunitcolor": "white"
          },
          "hoverlabel": {
           "align": "left"
          },
          "hovermode": "closest",
          "mapbox": {
           "style": "light"
          },
          "paper_bgcolor": "white",
          "plot_bgcolor": "#E5ECF6",
          "polar": {
           "angularaxis": {
            "gridcolor": "white",
            "linecolor": "white",
            "ticks": ""
           },
           "bgcolor": "#E5ECF6",
           "radialaxis": {
            "gridcolor": "white",
            "linecolor": "white",
            "ticks": ""
           }
          },
          "scene": {
           "xaxis": {
            "backgroundcolor": "#E5ECF6",
            "gridcolor": "white",
            "gridwidth": 2,
            "linecolor": "white",
            "showbackground": true,
            "ticks": "",
            "zerolinecolor": "white"
           },
           "yaxis": {
            "backgroundcolor": "#E5ECF6",
            "gridcolor": "white",
            "gridwidth": 2,
            "linecolor": "white",
            "showbackground": true,
            "ticks": "",
            "zerolinecolor": "white"
           },
           "zaxis": {
            "backgroundcolor": "#E5ECF6",
            "gridcolor": "white",
            "gridwidth": 2,
            "linecolor": "white",
            "showbackground": true,
            "ticks": "",
            "zerolinecolor": "white"
           }
          },
          "shapedefaults": {
           "line": {
            "color": "#2a3f5f"
           }
          },
          "ternary": {
           "aaxis": {
            "gridcolor": "white",
            "linecolor": "white",
            "ticks": ""
           },
           "baxis": {
            "gridcolor": "white",
            "linecolor": "white",
            "ticks": ""
           },
           "bgcolor": "#E5ECF6",
           "caxis": {
            "gridcolor": "white",
            "linecolor": "white",
            "ticks": ""
           }
          },
          "title": {
           "x": 0.05
          },
          "xaxis": {
           "automargin": true,
           "gridcolor": "white",
           "linecolor": "white",
           "ticks": "",
           "title": {
            "standoff": 15
           },
           "zerolinecolor": "white",
           "zerolinewidth": 2
          },
          "yaxis": {
           "automargin": true,
           "gridcolor": "white",
           "linecolor": "white",
           "ticks": "",
           "title": {
            "standoff": 15
           },
           "zerolinecolor": "white",
           "zerolinewidth": 2
          }
         }
        },
        "title": {
         "text": "Clusters no Conjunto Iris (KMeans + PCA)"
        },
        "xaxis": {
         "anchor": "y",
         "domain": [
          0,
          1
         ],
         "title": {
          "text": "PCA1"
         }
        },
        "yaxis": {
         "anchor": "x",
         "domain": [
          0,
          1
         ],
         "title": {
          "text": "PCA2"
         }
        }
       }
      }
     },
     "metadata": {},
     "output_type": "display_data"
    }
   ],
   "source": [
    "# 4. Criar DataFrame para visualização\n",
    "df_plot = px.data.iris()\n",
    "df_plot['PCA1'] = X_pca[:, 0]\n",
    "df_plot['PCA2'] = X_pca[:, 1]\n",
    "df_plot['Cluster'] = labels.astype(str)\n",
    "\n",
    "# 5. Plot interativo com Plotly\n",
    "fig = px.scatter(\n",
    "    df_plot,\n",
    "    x='PCA1',\n",
    "    y='PCA2',\n",
    "    color='Cluster',\n",
    "    title='Clusters no Conjunto Iris (KMeans + PCA)',\n",
    "    labels={'Cluster': 'Grupo'},\n",
    "    hover_data=['species']\n",
    ")\n",
    "\n",
    "fig.show()"
   ]
  },
  {
   "cell_type": "code",
   "execution_count": null,
   "id": "7bc459fc",
   "metadata": {},
   "outputs": [],
   "source": [
    "# 6. Redução de dimensionalidade para 2D\n",
    "pca = PCA(n_components=2)\n",
    "X_pca = pca.fit_transform(X_scaled)"
   ]
  },
  {
   "cell_type": "code",
   "execution_count": null,
   "id": "628d7931",
   "metadata": {},
   "outputs": [],
   "source": [
    "# 7. Função objetivo para o Optuna\n",
    "def objective(trial):\n",
    "    n_clusters = trial.suggest_int('n_clusters', 2, 10)\n",
    "    kmeans = KMeans(n_clusters=n_clusters, random_state=42, n_init='auto')\n",
    "    kmeans.fit(X_scaled)\n",
    "    score = silhouette_score(X_scaled, kmeans.labels_)\n",
    "    return score"
   ]
  },
  {
   "cell_type": "code",
   "execution_count": null,
   "id": "6376156a",
   "metadata": {},
   "outputs": [
    {
     "name": "stderr",
     "output_type": "stream",
     "text": [
      "[I 2025-06-24 22:04:05,076] A new study created in memory with name: no-name-a8c512e8-8e05-4f2c-9964-dfc2fba4e1fc\n",
      "[I 2025-06-24 22:04:05,101] Trial 0 finished with value: 0.5817500491982808 and parameters: {'n_clusters': 2}. Best is trial 0 with value: 0.5817500491982808.\n",
      "[I 2025-06-24 22:04:05,120] Trial 1 finished with value: 0.4798814508199817 and parameters: {'n_clusters': 3}. Best is trial 0 with value: 0.5817500491982808.\n",
      "[I 2025-06-24 22:04:05,144] Trial 2 finished with value: 0.3339432304006177 and parameters: {'n_clusters': 6}. Best is trial 0 with value: 0.5817500491982808.\n",
      "[I 2025-06-24 22:04:05,155] Trial 3 finished with value: 0.32439914389835456 and parameters: {'n_clusters': 9}. Best is trial 0 with value: 0.5817500491982808.\n",
      "[I 2025-06-24 22:04:05,168] Trial 4 finished with value: 0.3339432304006177 and parameters: {'n_clusters': 6}. Best is trial 0 with value: 0.5817500491982808.\n",
      "[I 2025-06-24 22:04:05,183] Trial 5 finished with value: 0.3339432304006177 and parameters: {'n_clusters': 6}. Best is trial 0 with value: 0.5817500491982808.\n",
      "[I 2025-06-24 22:04:05,200] Trial 6 finished with value: 0.34162906041313373 and parameters: {'n_clusters': 8}. Best is trial 0 with value: 0.5817500491982808.\n",
      "[I 2025-06-24 22:04:05,210] Trial 7 finished with value: 0.5817500491982808 and parameters: {'n_clusters': 2}. Best is trial 0 with value: 0.5817500491982808.\n",
      "[I 2025-06-24 22:04:05,219] Trial 8 finished with value: 0.3450334535027462 and parameters: {'n_clusters': 5}. Best is trial 0 with value: 0.5817500491982808.\n",
      "[I 2025-06-24 22:04:05,232] Trial 9 finished with value: 0.2664290993719981 and parameters: {'n_clusters': 7}. Best is trial 0 with value: 0.5817500491982808.\n",
      "[I 2025-06-24 22:04:05,260] Trial 10 finished with value: 0.3850454053045392 and parameters: {'n_clusters': 4}. Best is trial 0 with value: 0.5817500491982808.\n",
      "[I 2025-06-24 22:04:05,280] Trial 11 finished with value: 0.5817500491982808 and parameters: {'n_clusters': 2}. Best is trial 0 with value: 0.5817500491982808.\n",
      "[I 2025-06-24 22:04:05,295] Trial 12 finished with value: 0.5817500491982808 and parameters: {'n_clusters': 2}. Best is trial 0 with value: 0.5817500491982808.\n",
      "[I 2025-06-24 22:04:05,314] Trial 13 finished with value: 0.3850454053045392 and parameters: {'n_clusters': 4}. Best is trial 0 with value: 0.5817500491982808.\n",
      "[I 2025-06-24 22:04:05,326] Trial 14 finished with value: 0.5817500491982808 and parameters: {'n_clusters': 2}. Best is trial 0 with value: 0.5817500491982808.\n",
      "[I 2025-06-24 22:04:05,353] Trial 15 finished with value: 0.3850454053045392 and parameters: {'n_clusters': 4}. Best is trial 0 with value: 0.5817500491982808.\n",
      "[I 2025-06-24 22:04:05,362] Trial 16 finished with value: 0.4798814508199817 and parameters: {'n_clusters': 3}. Best is trial 0 with value: 0.5817500491982808.\n",
      "[I 2025-06-24 22:04:05,375] Trial 17 finished with value: 0.33540615043919836 and parameters: {'n_clusters': 10}. Best is trial 0 with value: 0.5817500491982808.\n",
      "[I 2025-06-24 22:04:05,392] Trial 18 finished with value: 0.4798814508199817 and parameters: {'n_clusters': 3}. Best is trial 0 with value: 0.5817500491982808.\n",
      "[I 2025-06-24 22:04:05,409] Trial 19 finished with value: 0.3450334535027462 and parameters: {'n_clusters': 5}. Best is trial 0 with value: 0.5817500491982808.\n",
      "[I 2025-06-24 22:04:05,425] Trial 20 finished with value: 0.5817500491982808 and parameters: {'n_clusters': 2}. Best is trial 0 with value: 0.5817500491982808.\n",
      "[I 2025-06-24 22:04:05,442] Trial 21 finished with value: 0.5817500491982808 and parameters: {'n_clusters': 2}. Best is trial 0 with value: 0.5817500491982808.\n",
      "[I 2025-06-24 22:04:05,458] Trial 22 finished with value: 0.4798814508199817 and parameters: {'n_clusters': 3}. Best is trial 0 with value: 0.5817500491982808.\n",
      "[I 2025-06-24 22:04:05,477] Trial 23 finished with value: 0.5817500491982808 and parameters: {'n_clusters': 2}. Best is trial 0 with value: 0.5817500491982808.\n",
      "[I 2025-06-24 22:04:05,493] Trial 24 finished with value: 0.4798814508199817 and parameters: {'n_clusters': 3}. Best is trial 0 with value: 0.5817500491982808.\n",
      "[I 2025-06-24 22:04:05,508] Trial 25 finished with value: 0.3850454053045392 and parameters: {'n_clusters': 4}. Best is trial 0 with value: 0.5817500491982808.\n",
      "[I 2025-06-24 22:04:05,509] Trial 26 finished with value: 0.3450334535027462 and parameters: {'n_clusters': 5}. Best is trial 0 with value: 0.5817500491982808.\n",
      "[I 2025-06-24 22:04:05,528] Trial 27 finished with value: 0.5817500491982808 and parameters: {'n_clusters': 2}. Best is trial 0 with value: 0.5817500491982808.\n",
      "[I 2025-06-24 22:04:05,554] Trial 28 finished with value: 0.4798814508199817 and parameters: {'n_clusters': 3}. Best is trial 0 with value: 0.5817500491982808.\n",
      "[I 2025-06-24 22:04:05,569] Trial 29 finished with value: 0.3850454053045392 and parameters: {'n_clusters': 4}. Best is trial 0 with value: 0.5817500491982808.\n"
     ]
    }
   ],
   "source": [
    "# 8. Rodar otimização\n",
    "study = optuna.create_study(direction='maximize')\n",
    "study.optimize(objective, n_trials=30)"
   ]
  },
  {
   "cell_type": "code",
   "execution_count": null,
   "id": "3fe1afe6",
   "metadata": {},
   "outputs": [
    {
     "name": "stdout",
     "output_type": "stream",
     "text": [
      "Melhor número de clusters: 2\n"
     ]
    }
   ],
   "source": [
    "# 9. Melhor número de clusters\n",
    "best_n_clusters = study.best_params['n_clusters']\n",
    "print(f\"Melhor número de clusters: {best_n_clusters}\")"
   ]
  },
  {
   "cell_type": "code",
   "execution_count": null,
   "id": "cd294775",
   "metadata": {},
   "outputs": [],
   "source": [
    "# 10. Treinar modelo com o melhor número\n",
    "best_kmeans = KMeans(n_clusters=best_n_clusters, random_state=42, n_init='auto')\n",
    "best_kmeans.fit(X_scaled)\n",
    "final_labels = best_kmeans.labels_"
   ]
  },
  {
   "cell_type": "code",
   "execution_count": null,
   "id": "1fce36ca",
   "metadata": {},
   "outputs": [
    {
     "name": "stdout",
     "output_type": "stream",
     "text": [
      "Silhouette Score final: 0.5818\n"
     ]
    }
   ],
   "source": [
    "# 11. Avaliar\n",
    "sil_score = silhouette_score(X_scaled, final_labels)\n",
    "print(f\"Silhouette Score final: {sil_score:.4f}\")"
   ]
  },
  {
   "cell_type": "markdown",
   "id": "0115ab94",
   "metadata": {},
   "source": [
    "### Interface"
   ]
  },
  {
   "cell_type": "code",
   "execution_count": 62,
   "id": "5e392dc9",
   "metadata": {},
   "outputs": [],
   "source": [
    "def clusterizar(n_clusters):\n",
    "    model = KMeans(n_clusters=n_clusters, random_state=42, n_init='auto')\n",
    "    model.fit(X_scaled)  # X_scaled já foi definido anteriormente\n",
    "    score = silhouette_score(X_scaled, model.labels_)\n",
    "    return f\"Silhouette Score: {score:.4f}\""
   ]
  },
  {
   "cell_type": "code",
   "execution_count": 63,
   "id": "403dd66b",
   "metadata": {},
   "outputs": [
    {
     "name": "stdout",
     "output_type": "stream",
     "text": [
      "* Running on local URL:  http://127.0.0.1:7862\n",
      "* To create a public link, set `share=True` in `launch()`.\n"
     ]
    },
    {
     "data": {
      "text/html": [
       "<div><iframe src=\"http://127.0.0.1:7862/\" width=\"100%\" height=\"500\" allow=\"autoplay; camera; microphone; clipboard-read; clipboard-write;\" frameborder=\"0\" allowfullscreen></iframe></div>"
      ],
      "text/plain": [
       "<IPython.core.display.HTML object>"
      ]
     },
     "metadata": {},
     "output_type": "display_data"
    },
    {
     "data": {
      "text/plain": []
     },
     "execution_count": 63,
     "metadata": {},
     "output_type": "execute_result"
    }
   ],
   "source": [
    "iface = gr.Interface(\n",
    "    fn=clusterizar,\n",
    "    inputs=gr.Slider(minimum=2, maximum=10, step=1, label=\"Número de Clusters\"),\n",
    "    outputs=\"text\",\n",
    "    title=\"KMeans com Iris Dataset\",\n",
    "    description=\"Teste o agrupamento KMeans com diferentes números de clusters\"\n",
    ")\n",
    "\n",
    "iface.launch()"
   ]
  }
 ],
 "metadata": {
  "kernelspec": {
   "display_name": "Python 3",
   "language": "python",
   "name": "python3"
  },
  "language_info": {
   "codemirror_mode": {
    "name": "ipython",
    "version": 3
   },
   "file_extension": ".py",
   "mimetype": "text/x-python",
   "name": "python",
   "nbconvert_exporter": "python",
   "pygments_lexer": "ipython3",
   "version": "3.11.2"
  }
 },
 "nbformat": 4,
 "nbformat_minor": 5
}
